{
 "cells": [
  {
   "cell_type": "code",
   "execution_count": 1,
   "id": "43b05675-e19d-4cb4-8347-a036630bde7a",
   "metadata": {},
   "outputs": [
    {
     "name": "stdout",
     "output_type": "stream",
     "text": [
      "Welcome to Face Recognition System\n"
     ]
    }
   ],
   "source": [
    "__Developer__=\"Mahdi Hasan Shuvo\"\n",
    "__GitHub__= \"https://github.com/Mahdi-hasan-shuvo\"\n",
    "__Facebook__= 'https://www.facebook.com/bk4human'\n",
    "\n",
    "# Importing Libraries\n",
    "from mahdix import *\n",
    "from face_recognition import face_locations, face_encodings, load_image_file,face_distance\n",
    "from pymongo import MongoClient\n",
    "from datetime import datetime, timedelta\n",
    "import cv2\n",
    "\n",
    "clear()\n",
    "print(\"Welcome to Face Recognition System\")\n",
    "# Student data (name, image file, etc.)\n",
    "data_student = [                  #  you add more students use database\n",
    "    { \"Name_name\": \"Mahdi Hasan\",\n",
    "      \"S_symester\": \"1\",\n",
    "      \"F_faculty\": \"CSE\",\n",
    "      \"I_id\": \"2024-2028\",\n",
    "      \"I_image\": \"me.PNG\" },\n",
    "    { \"Name_name\": \"Rahul Hasan\",\n",
    "      \"S_symester\": \"3\",\n",
    "      \"F_faculty\": \"CSE\",\n",
    "      \"I_id\": \"2024-2028\",\n",
    "      \"I_image\": \"he.PNG\" },\n",
    "      { \"Name_name\": \"Boro Mama\",\n",
    "      \"S_symester\": \"3\",\n",
    "      \"F_faculty\": \"CSE\",\n",
    "      \"I_id\": \"2024-2026\",\n",
    "      \"I_image\": \"mama.PNG\" }\n",
    "      ]"
   ]
  },
  {
   "cell_type": "code",
   "execution_count": 2,
   "id": "2cc69f41-0b05-4909-bc01-8c544cc0ffaa",
   "metadata": {},
   "outputs": [],
   "source": [
    "# Load the face encodings for each student image\n",
    "loads_face = [face_encodings(load_image_file(data[\"I_image\"]))[0] for data in data_student] \n",
    "__webvideo_path='PXL_20250117_083224374.mp4'\n",
    "# Load the video capture from the file\n",
    "cap = cv2.VideoCapture(__webvideo_path)\n",
    "if not cap.isOpened():\n",
    "    print(\"Cannot open camera\")\n",
    "    exit()\n",
    "cv2.namedWindow('Video')\n"
   ]
  },
  {
   "cell_type": "code",
   "execution_count": 3,
   "id": "85f00d49-da64-4136-adec-92eef470bf08",
   "metadata": {},
   "outputs": [
    {
     "name": "stdout",
     "output_type": "stream",
     "text": [
      "Can't receive frame (stream end?). Exiting ...\n"
     ]
    }
   ],
   "source": [
    "def checking_attandance(student_class=\"CSE\",Class_room=\"2\"):\n",
    "    while True:\n",
    "        ret, frame = cap.read()\n",
    "        if not ret:\n",
    "            print(\"Can't receive frame (stream end?). Exiting ...\")\n",
    "            break\n",
    "        frame_face_location= face_locations(frame,model='cnn')\n",
    "        frame_face_encoding= face_encodings(frame,frame_face_location)\n",
    "        for face_location, face_encoding in zip(frame_face_location, frame_face_encoding):\n",
    "            top, right, bottom, left = face_location\n",
    "            distances = face_distance(loads_face, face_encoding)\n",
    "            best_match_index = distances.argmin()  # Find the closest match\n",
    "            if distances[best_match_index] < 0.6:  # If the distance is less than 0.6, it's a match\n",
    "                print(f\"{LI_WHITE}Found match on frame {LI_YELLOW}{cap.get(cv2.CAP_PROP_FRAME_COUNT)} for student {LI_GREEN}{data_student[best_match_index]['Name_name']}\")\n",
    "                student_name = data_student[best_match_index]\n",
    "                put_text=f'{student_name[\"Name_name\"]}[{student_name[\"F_faculty\"]}-{student_name[\"S_symester\"]}]'\n",
    "                cv2.putText(frame, str(student_name[\"I_id\"]), (left, top - 5), cv2.FONT_HERSHEY_SIMPLEX, 0.9, (255, 0, 0), 2)\n",
    "                cv2.putText(frame, put_text, (left, top - 30), cv2.FONT_HERSHEY_SIMPLEX, 0.9, (0, 255, 0), 2)\n",
    "            cv2.rectangle(frame, (left, top), (right, bottom), (0, 0, 255), 2)\n",
    "            cv2.imshow('Video', frame)\n",
    "            if cv2.waitKey(1) & 0xFF == ord('q'):\n",
    "                break\n",
    "\n",
    "        \n",
    "checking_attandance()\n",
    "cap.release()\n",
    "cv2.destroyAllWindows()"
   ]
  }
 ],
 "metadata": {
  "kernelspec": {
   "display_name": "Python 3 (ipykernel)",
   "language": "python",
   "name": "python3"
  },
  "language_info": {
   "codemirror_mode": {
    "name": "ipython",
    "version": 3
   },
   "file_extension": ".py",
   "mimetype": "text/x-python",
   "name": "python",
   "nbconvert_exporter": "python",
   "pygments_lexer": "ipython3",
   "version": "3.13.1"
  }
 },
 "nbformat": 4,
 "nbformat_minor": 5
}

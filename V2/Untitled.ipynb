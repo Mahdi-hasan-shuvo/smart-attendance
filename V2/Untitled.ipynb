{
 "cells": [
  {
   "cell_type": "code",
   "execution_count": 1,
   "id": "32f4d978-0814-4fd1-a814-74fbbbbdc748",
   "metadata": {},
   "outputs": [],
   "source": [
    "__Developer__=\"Mahdi Hasan Shuvo\"\n",
    "__GitHub__= \"https://github.com/Mahdi-hasan-shuvo\"\n",
    "__Facebook__= 'https://www.facebook.com/bk4human'\n",
    "\n",
    "# Importing Libraries\n",
    "from mahdix import *\n",
    "from face_recognition import face_locations, face_encodings, load_image_file,face_distance\n",
    "from pymongo import MongoClient\n",
    "from datetime import datetime, timedelta\n",
    "import cv2\n",
    "from threading import Thread\n",
    "\n",
    "student_data=[\n",
    "    {\"Name\":\"Mahdi Hasan\" ,\n",
    "    \"S_ID\":\"101-215-030\",\n",
    "     \"S_semester\":\"1\",\n",
    "     \"Groups\" : \"CSE\",\n",
    "     \"S_img\": \"\"\n",
    "    \n",
    "    }\n",
    "    \n",
    "]"
   ]
  },
  {
   "cell_type": "code",
   "execution_count": null,
   "id": "4b6b078f-8b8e-46a3-b766-361cb525df24",
   "metadata": {},
   "outputs": [],
   "source": []
  }
 ],
 "metadata": {
  "kernelspec": {
   "display_name": "Python 3 (ipykernel)",
   "language": "python",
   "name": "python3"
  },
  "language_info": {
   "codemirror_mode": {
    "name": "ipython",
    "version": 3
   },
   "file_extension": ".py",
   "mimetype": "text/x-python",
   "name": "python",
   "nbconvert_exporter": "python",
   "pygments_lexer": "ipython3",
   "version": "3.13.1"
  }
 },
 "nbformat": 4,
 "nbformat_minor": 5
}
